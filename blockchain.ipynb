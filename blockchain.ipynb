{
 "cells": [
  {
   "cell_type": "code",
   "execution_count": 9,
   "metadata": {},
   "outputs": [],
   "source": [
    "import datetime\n",
    "import hashlib\n",
    "import json\n",
    "from flask import Flask, jsonify\n"
   ]
  },
  {
   "cell_type": "markdown",
   "metadata": {},
   "source": [
    "MEMBUAT BLOCKCHAIN"
   ]
  },
  {
   "cell_type": "code",
   "execution_count": null,
   "metadata": {},
   "outputs": [],
   "source": [
    "class Blockchain :\n",
    "    def __init__(self):\n",
    "        self.chain=[]\n",
    "        self.create_block(proof = 1, previous_hash = '0')\n",
    "\n",
    "    def create_block(self, proof, previous_hash) :\n",
    "        block={\n",
    "            'index':len(self.chain)+1,\n",
    "            'timestamp' : str(datetime.datetime.now()),\n",
    "            'proof' : proof,\n",
    "            'previous_hash' : previous_hash,\n",
    "        }\n",
    "\n",
    "        self.chain.append(block)\n",
    "        return block   \n",
    "\n",
    "    def get_previous_block(self) :\n",
    "        return self.chain[-1]\n",
    "\n",
    "    def proof_of_work(self,previous_proof) :\n",
    "        new_proof = 1\n",
    "        check_proof = False\n",
    "        while check_proof is False:\n",
    "            hash_operation = hashlib.sha256(str(new_proof**2 - previous_proof**2).encode()).hexdigest()\n",
    "            if hash_operation[:4] == \"0000\":\n",
    "                check_proof = True\n",
    "            else:\n",
    "                new_proof+= 1\n",
    "    \n",
    "    def hash(self,block) :\n",
    "        encoded_block = json.dumps(block, sort_keys=True).encode()\n",
    "        return hashlib.sha256(encoded_block).hexdigest()\n",
    "            \n",
    "    def is_chain_valid(self,chain) :\n",
    "        get_previous_block = chain[0]\n",
    "        block_index = 1\n",
    "        while block_index < len(chain) :\n",
    "            block = chain[block_index]\n",
    "            if block ['previous_hash'] != self.self[previous_block]:\n",
    "                return False\n",
    "            previous_proof = previous_block['proof']\n",
    "            proof = block['proof']\n",
    "            hash_operation = hashlib.sha256(str(new_proof**2 - previous_proof**2).encode()).hexdigest()\n",
    "            if hash_operation[:4] != '0000':\n",
    "                return False\n",
    "            previous_block = block\n",
    "            block_index += 1\n",
    "        return True"
   ]
  }
 ],
 "metadata": {
  "kernelspec": {
   "display_name": "Python 3",
   "language": "python",
   "name": "python3"
  },
  "language_info": {
   "codemirror_mode": {
    "name": "ipython",
    "version": 3
   },
   "file_extension": ".py",
   "mimetype": "text/x-python",
   "name": "python",
   "nbconvert_exporter": "python",
   "pygments_lexer": "ipython3",
   "version": "3.11.2"
  }
 },
 "nbformat": 4,
 "nbformat_minor": 2
}
